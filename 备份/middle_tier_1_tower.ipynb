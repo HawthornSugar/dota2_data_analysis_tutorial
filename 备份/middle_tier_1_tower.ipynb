{
 "cells": [
  {
   "cell_type": "code",
   "execution_count": 12,
   "metadata": {
    "scrolled": true
   },
   "outputs": [
    {
     "data": {
      "text/plain": [
       "[{'key': 7,\n",
       "  'player_slot': 4,\n",
       "  'slot': 4,\n",
       "  'time': 307,\n",
       "  'type': 'CHAT_MESSAGE_FIRSTBLOOD'},\n",
       " {'player_slot': 128,\n",
       "  'slot': 5,\n",
       "  'team': 3,\n",
       "  'time': 737,\n",
       "  'type': 'CHAT_MESSAGE_TOWER_KILL'},\n",
       " {'player_slot': 128,\n",
       "  'slot': 5,\n",
       "  'team': 3,\n",
       "  'time': 801,\n",
       "  'type': 'CHAT_MESSAGE_TOWER_KILL'},\n",
       " {'team': 2, 'time': 832, 'type': 'CHAT_MESSAGE_ROSHAN_KILL'},\n",
       " {'player_slot': 4, 'slot': 4, 'time': 833, 'type': 'CHAT_MESSAGE_AEGIS'},\n",
       " {'slot': -1, 'team': 2, 'time': 914, 'type': 'CHAT_MESSAGE_TOWER_KILL'},\n",
       " {'player_slot': 4,\n",
       "  'slot': 4,\n",
       "  'team': 2,\n",
       "  'time': 995,\n",
       "  'type': 'CHAT_MESSAGE_TOWER_KILL'},\n",
       " {'player_slot': 3,\n",
       "  'slot': 3,\n",
       "  'team': 2,\n",
       "  'time': 1060,\n",
       "  'type': 'CHAT_MESSAGE_TOWER_KILL'},\n",
       " {'player_slot': 130,\n",
       "  'slot': 7,\n",
       "  'team': 3,\n",
       "  'time': 1148,\n",
       "  'type': 'CHAT_MESSAGE_TOWER_KILL'},\n",
       " {'player_slot': 128,\n",
       "  'slot': 5,\n",
       "  'team': 3,\n",
       "  'time': 1269,\n",
       "  'type': 'CHAT_MESSAGE_TOWER_KILL'},\n",
       " {'team': 3, 'time': 1388, 'type': 'CHAT_MESSAGE_ROSHAN_KILL'},\n",
       " {'player_slot': 129, 'slot': 6, 'time': 1390, 'type': 'CHAT_MESSAGE_AEGIS'},\n",
       " {'player_slot': 129,\n",
       "  'slot': 6,\n",
       "  'team': 3,\n",
       "  'time': 1471,\n",
       "  'type': 'CHAT_MESSAGE_TOWER_KILL'}]"
      ]
     },
     "execution_count": 12,
     "metadata": {},
     "output_type": "execute_result"
    }
   ],
   "source": [
    "from dota2_api import get_api_json\n",
    "\n",
    "match_id = 3159781877\n",
    "match_info = get_api_json('https://api.opendota.com/api/matches/{}'.format(match_id))\n",
    "match_info['objectives']"
   ]
  },
  {
   "cell_type": "code",
   "execution_count": 21,
   "metadata": {},
   "outputs": [],
   "source": [
    "def is_destroy_first_tower_induce_win(match_info):\n",
    "    if 'radiant_win' not in match_info:\n",
    "        return None\n",
    "    win_camp = 'Radiant' if match_info['radiant_win'] is True else 'Dire'\n",
    "    if match_info['objectives']:\n",
    "        for objective in sorted(match_info['objectives'], key=lambda x:x['time']):\n",
    "            if 'key' in objective and 'tower1' in str(objective['key']):\n",
    "                tower_camp = 'Dire' if 'goodguys' in objective['key'] else 'Radiant'\n",
    "                if win_camp == tower_camp:\n",
    "                    return True\n",
    "                else:\n",
    "                    return False\n",
    "    return None\n",
    "\n",
    "def is_destroy_mid_tower_induce_win(match_info):\n",
    "    if 'radiant_win' not in match_info:\n",
    "        return None\n",
    "    win_camp = 'Radiant' if match_info['radiant_win'] is True else 'Dire'\n",
    "    if match_info['objectives']:\n",
    "        for objective in sorted(match_info['objectives'], key=lambda x:x['time']):\n",
    "            if 'key' in objective and 'tower1_mid' in str(objective['key']):\n",
    "                tower_camp = 'Dire' if 'goodguys' in objective['key'] else 'Radiant'\n",
    "                if win_camp == tower_camp:\n",
    "                    return True\n",
    "                else:\n",
    "                    return False\n",
    "    return None\n",
    "\n",
    "def is_kill_roshan_induce_win(match_info):\n",
    "    if 'radiant_win' not in match_info:\n",
    "        return None\n",
    "    win_camp = 'Radiant' if match_info['radiant_win'] is True else 'Dire'\n",
    "    if match_info['objectives']:\n",
    "        for objective in sorted(match_info['objectives'], key=lambda x:x['time']):\n",
    "            if 'type' in objective and 'CHAT_MESSAGE_AEGIS' in str(objective['type']):\n",
    "                roshan_camp = 'Radiant' if objective['slot'] <= 4 else 'Dire'\n",
    "                if win_camp == roshan_camp:\n",
    "                    return True\n",
    "                else:\n",
    "                    return False\n",
    "    return None\n",
    "\n",
    "def is_firts_blood_induce_win(match_info):\n",
    "    if 'radiant_win' not in match_info:\n",
    "        return None\n",
    "    win_camp = 'Radiant' if match_info['radiant_win'] is True else 'Dire'\n",
    "    if match_info['objectives']:\n",
    "        for objective in sorted(match_info['objectives'], key=lambda x:x['time']):\n",
    "            if 'type' in objective and 'CHAT_MESSAGE_FIRSTBLOOD' in str(objective['type']):\n",
    "                fb_camp = 'Radiant' if objective['slot'] <= 4 else 'Dire'\n",
    "                if win_camp == fb_camp:\n",
    "                    return True\n",
    "                else:\n",
    "                    return False\n",
    "    return None"
   ]
  },
  {
   "cell_type": "code",
   "execution_count": 26,
   "metadata": {},
   "outputs": [],
   "source": [
    "from dota2_api import get_api_json\n",
    "\n",
    "sql = \"\"\"SELECT match_id\n",
    "FROM match_patch where patch >= '7' \n",
    "ORDER BY RANDOM()\n",
    "LIMIT 10000\"\"\"\n",
    "\n",
    "# sql = \"\"\"SELECT\n",
    "# matches.match_id\n",
    "# FROM matches\n",
    "# JOIN match_patch using(match_id)\n",
    "# JOIN leagues using(leagueid)\n",
    "# where patch >= '7' \n",
    "# ORDER BY RANDOM()\n",
    "# LIMIT 100\n",
    "# \"\"\"\n",
    "\n",
    "match_ids = get_api_json('https://api.opendota.com/api/explorer?sql={}'.format(sql))['rows']"
   ]
  },
  {
   "cell_type": "code",
   "execution_count": 27,
   "metadata": {
    "scrolled": true
   },
   "outputs": [
    {
     "name": "stdout",
     "output_type": "stream",
     "text": [
      "1979 1280 1493 1218 1086\n"
     ]
    }
   ],
   "source": [
    "match_count = 0\n",
    "mid_tower_induce_win_count = 0\n",
    "kill_roshan_induce_win_count = 0\n",
    "first_tower_induce_win_count = 0\n",
    "firts_blood_induce_win_count = 0\n",
    "\n",
    "for mi in match_ids:\n",
    "    match_info = get_api_json('https://api.opendota.com/api/matches/{}'.format(mi['match_id']))\n",
    "    destroy_mid_tower_induce_win = is_destroy_mid_tower_induce_win(match_info)\n",
    "    kill_roshan_induce_win = is_kill_roshan_induce_win(match_info)\n",
    "    destroy_first_tower_induce_win = is_destroy_first_tower_induce_win(match_info)\n",
    "    firts_blood_induce_win = is_firts_blood_induce_win(match_info)\n",
    "    if destroy_first_tower_induce_win is not None and kill_roshan_induce_win is not None \\\n",
    "    and destroy_first_tower_induce_win is not None and firts_blood_induce_win is not None:\n",
    "        match_count += 1\n",
    "        if destroy_mid_tower_induce_win is True:\n",
    "            mid_tower_induce_win_count += 1\n",
    "        if kill_roshan_induce_win is True:\n",
    "            kill_roshan_induce_win_count += 1\n",
    "        if destroy_first_tower_induce_win is True:\n",
    "            first_tower_induce_win_count += 1\n",
    "        if firts_blood_induce_win is True:\n",
    "            firts_blood_induce_win_count += 1\n",
    "\n",
    "print(match_count, mid_tower_induce_win_count, kill_roshan_induce_win_count, first_tower_induce_win_count, firts_blood_induce_win_count)"
   ]
  },
  {
   "cell_type": "code",
   "execution_count": 8,
   "metadata": {},
   "outputs": [
    {
     "name": "stdout",
     "output_type": "stream",
     "text": [
      "(0.534, 0.718)\n"
     ]
    }
   ],
   "source": [
    "from math import sqrt\n",
    "\n",
    "def get_confidence_intervals(count, true_count):\n",
    "    p = float(true_count) / count\n",
    "    se = sqrt(p*(1-p)/count)\n",
    "    return (round(p - 1.96 * se, 3), round(p + 1.96 * se, 3) )\n",
    "\n",
    "print(get_confidence_intervals(107 ,67))"
   ]
  },
  {
   "cell_type": "code",
   "execution_count": null,
   "metadata": {
    "scrolled": false
   },
   "outputs": [],
   "source": [
    "# sql\n",
    "# SELECT count(*)\n",
    "# FROM match_patch where patch >= '7' \n",
    "\n",
    "# SELECT match_id\n",
    "# FROM match_patch where patch >= '7' \n",
    "# ORDER BY RANDOM()\n",
    "# LIMIT 100"
   ]
  }
 ],
 "metadata": {
  "kernelspec": {
   "display_name": "Python 3",
   "language": "python",
   "name": "python3"
  },
  "language_info": {
   "codemirror_mode": {
    "name": "ipython",
    "version": 3
   },
   "file_extension": ".py",
   "mimetype": "text/x-python",
   "name": "python",
   "nbconvert_exporter": "python",
   "pygments_lexer": "ipython3",
   "version": "3.6.4"
  }
 },
 "nbformat": 4,
 "nbformat_minor": 2
}
